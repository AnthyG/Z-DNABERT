{
 "cells": [
  {
   "cell_type": "markdown",
   "metadata": {},
   "source": [
    "# **[Jump to Run Section](#Run)**"
   ]
  },
  {
   "cell_type": "markdown",
   "metadata": {
    "id": "f59Ujuujn___"
   },
   "source": [
    "# Install dependencies and define helper functions"
   ]
  },
  {
   "cell_type": "raw",
   "metadata": {
    "id": "apiUcTpNTnlU",
    "scrolled": true
   },
   "source": [
    "!pip3 install transformers\n",
    "!pip3 install biopython\n",
    "!pip3 install torch\n",
    "!pip3 install numpy\n",
    "!pip3 install scipy\n",
    "!pip3 install tqdm"
   ]
  },
  {
   "cell_type": "code",
   "execution_count": null,
   "metadata": {
    "id": "Bsyfz4BrSxMN"
   },
   "outputs": [],
   "source": [
    "from tqdm.auto import tqdm\n",
    "import os\n",
    "from ipywidgets import widgets\n",
    "import pathlib\n",
    "import logging\n",
    "import time\n",
    "\n",
    "from src.prediction_runner import PredictionRunner\n",
    "from src.prediction_input import PredictionInput\n",
    "from src.prediction_input_file_from_filesystem import PredictionInputFileFromFilesystem\n",
    "from src.zdnabert_model import ZdnabertModel\n",
    "from src.sequence_variation_normal import SequenceVariationNormal\n",
    "from src.sequence_variation_reverse_complement import SequenceVariationReverseComplement\n",
    "from src.prediction_result_formatter_bed_file import PredictionResultFormatterBedFile\n",
    "from src.zdnabert_model_downloader import ZdnabertModelDownloader"
   ]
  },
  {
   "cell_type": "code",
   "execution_count": null,
   "metadata": {},
   "outputs": [],
   "source": [
    "model_download_path = './pytorch_models'\n",
    "input_path = './input'\n",
    "output_path = './output'\n",
    "file_name_maximum_length = 255"
   ]
  },
  {
   "cell_type": "code",
   "execution_count": null,
   "metadata": {
    "id": "xYq4WVAtcLS4"
   },
   "outputs": [],
   "source": [
    "model_name_widget = widgets.Dropdown(\n",
    "    options=ZdnabertModelDownloader.models.keys(),\n",
    "    value=next(iter(ZdnabertModelDownloader.models.keys())),\n",
    "    description='model:',\n",
    "    disabled=False,\n",
    ")\n",
    "\n",
    "model_confidence_threshold_widget = widgets.FloatText(\n",
    "    value=0.5,\n",
    "    description='model confidence threshold'\n",
    ")\n",
    "\n",
    "minimum_sequence_length_widget = widgets.IntText(\n",
    "    value=10,\n",
    "    description='minimum sequence length:',\n",
    ")\n",
    "\n",
    "check_sequence_variations_widget = widgets.Checkbox(\n",
    "    value=True,\n",
    "    description='check reverse complement sequence variations'\n",
    ")\n",
    "\n",
    "use_cuda_if_available_widget = widgets.Checkbox(\n",
    "    value=True,\n",
    "    description='use cuda if it is available'\n",
    ")"
   ]
  },
  {
   "cell_type": "code",
   "execution_count": null,
   "metadata": {},
   "outputs": [],
   "source": [
    "def load_input_files_list():\n",
    "    input_path_handle = pathlib.Path(input_path)\n",
    "    files = [item for item in input_path_handle.iterdir() if item.is_file()]\n",
    "    file_names = [item.name for item in files]\n",
    "    return file_names"
   ]
  },
  {
   "cell_type": "code",
   "execution_count": null,
   "metadata": {},
   "outputs": [],
   "source": [
    "def retrieve_input_files_list():\n",
    "    return {v: pathlib.PurePath(input_path).joinpath(v) for v in input_files_widget.value}"
   ]
  },
  {
   "cell_type": "code",
   "execution_count": null,
   "metadata": {},
   "outputs": [],
   "source": [
    "input_files_widget = None\n",
    "def create_input_files_widget():\n",
    "    global input_files_widget\n",
    "    input_files_widget = widgets.SelectMultiple(\n",
    "        options=load_input_files_list(),\n",
    "        value=[],\n",
    "        description='Select inputs',\n",
    "        disabled=False\n",
    "    )"
   ]
  },
  {
   "cell_type": "code",
   "execution_count": null,
   "metadata": {},
   "outputs": [],
   "source": [
    "load_model_output = widgets.Output()\n",
    "do_predictions_output = widgets.Output()"
   ]
  },
  {
   "cell_type": "code",
   "execution_count": null,
   "metadata": {},
   "outputs": [],
   "source": [
    "model_name = None\n",
    "model_confidence_threshold = None\n",
    "minimum_sequence_length = None\n",
    "check_sequence_variations = None\n",
    "use_cuda_if_available = None"
   ]
  },
  {
   "cell_type": "code",
   "execution_count": null,
   "metadata": {},
   "outputs": [],
   "source": [
    "@load_model_output.capture(clear_output=True)\n",
    "def load_model(btn):\n",
    "    global model_name, model_confidence_threshold, minimum_sequence_length, check_sequence_variations, model_file_path, tokenizer, model, use_cuda_if_available, is_cuda_available\n",
    "    \n",
    "    model_name = model_name_widget.value\n",
    "    model_confidence_threshold = model_confidence_threshold_widget.value\n",
    "    minimum_sequence_length = minimum_sequence_length_widget.value\n",
    "    check_sequence_variations = check_sequence_variations_widget.value\n",
    "    use_cuda_if_available = use_cuda_if_available_widget.value\n",
    "    \n",
    "    print('\\n\\ncompleted loading model\\n\\nmodel: {}\\nmodel confidence threshold: {}\\nminimum sequence length: {}'.format(model_name, model_confidence_threshold, minimum_sequence_length))"
   ]
  },
  {
   "cell_type": "code",
   "execution_count": null,
   "metadata": {},
   "outputs": [],
   "source": [
    "load_model_button = widgets.Button(\n",
    "    description='Load model',\n",
    "    icon='truck-loading',\n",
    ")\n",
    "load_model_button.on_click(load_model)"
   ]
  },
  {
   "cell_type": "code",
   "execution_count": null,
   "metadata": {
    "id": "_1qjq3i-VCEz"
   },
   "outputs": [],
   "source": [
    "@do_predictions_output.capture(clear_output=True)\n",
    "def do_predictions(btn):\n",
    "    uploaded_items = retrieve_input_files_list()\n",
    "    \n",
    "    #logging.basicConfig(\n",
    "    #    filename='example.log',\n",
    "    #    encoding='utf-8',\n",
    "    #    format='%(asctime)s - %(levelname)s - %(name)s - %(message)s',\n",
    "    #    level=logging.INFO\n",
    "    #)\n",
    "    \n",
    "    zdnabert_model_downloader = ZdnabertModelDownloader()\n",
    "    zdnabert_model_downloader.download_models(model_download_path)\n",
    "    zdnabert_model_downloader.download_metas(model_download_path)\n",
    "    \n",
    "    zdnabert_model = ZdnabertModel(\n",
    "        os.path.join(model_download_path, model_name),\n",
    "        model_name=model_name,\n",
    "        model_confidence_threshold=model_confidence_threshold,\n",
    "        minimum_sequence_length=minimum_sequence_length,\n",
    "        use_cuda_if_available=use_cuda_if_available,\n",
    "    )\n",
    "\n",
    "    sequence_variations = []\n",
    "    sequence_variations.append(SequenceVariationNormal())\n",
    "    if check_sequence_variations:\n",
    "        sequence_variations.append(SequenceVariationReverseComplement())\n",
    "    \n",
    "    \n",
    "    prediction_input_files = []\n",
    "    for uploaded_item_key in tqdm(uploaded_items.keys(), 'preparing'):\n",
    "        uploaded_item_path = uploaded_items[uploaded_item_key]\n",
    "        \n",
    "        prediction_input_file = PredictionInputFileFromFilesystem(\n",
    "            uploaded_item_key,\n",
    "            uploaded_item_path,\n",
    "        )\n",
    "        prediction_input_files.append(prediction_input_file)\n",
    "        \n",
    "    prediction_input = PredictionInput(\n",
    "        zdnabert_model,\n",
    "        prediction_input_files,\n",
    "        sequence_variations,\n",
    "    )\n",
    "    prediction_inputs = [\n",
    "        prediction_input,\n",
    "    ]\n",
    "\n",
    "    prediction_result_formatter_bed_file = PredictionResultFormatterBedFile()\n",
    "    \n",
    "    prediction_runner = PredictionRunner()\n",
    "\n",
    "    now_time_as_string_for_file_name = time.strftime(\"%Y_%m_%d,%H_%M_%S\")\n",
    "\n",
    "    first_time_bed_file_names = []\n",
    "    \n",
    "    for prediction_result in prediction_runner.run(prediction_inputs, progress_bar=tqdm):\n",
    "        bed_file_name = prediction_result_formatter_bed_file.file_name_common(prediction_result, now_time_as_string_for_file_name)\n",
    "        bed_file_name_seq = prediction_result_formatter_bed_file.file_name_variation(prediction_result, now_time_as_string_for_file_name)\n",
    "        model_params_as_string = prediction_result.get_model_params_as_string()\n",
    "        \n",
    "        print(bed_file_name)\n",
    "        print(bed_file_name_seq)\n",
    "\n",
    "        bed_file_handler = open(os.path.join(output_path, bed_file_name), 'a')\n",
    "        bed_file_seq_handler = open(os.path.join(output_path, bed_file_name_seq), 'w')\n",
    "\n",
    "        if not bed_file_name in first_time_bed_file_names:\n",
    "            first_time_bed_file_names.append(bed_file_name)\n",
    "            bed_file_handler.write('track name=\"{name}\" priority=1\\n'.format(name=model_params_as_string))\n",
    "        \n",
    "        bed_file_seq_handler.write('track name=\"{name}\" priority=1\\n'.format(name=model_params_as_string))\n",
    "        \n",
    "        #print('track name=\"{name}\" priority=2'.format(name=seq_name))\n",
    "        \n",
    "        for line in prediction_result_formatter_bed_file.format(prediction_result):\n",
    "            #print(line)\n",
    "            bed_file_handler.write(\"{}\\n\".format(line))\n",
    "            bed_file_seq_handler.write(\"{}\\n\".format(line))\n",
    "\n",
    "        bed_file_handler.close()\n",
    "        bed_file_seq_handler.close()\n",
    "        #print()"
   ]
  },
  {
   "cell_type": "code",
   "execution_count": null,
   "metadata": {},
   "outputs": [],
   "source": [
    "do_predictions_button = widgets.Button(\n",
    "    description='Run prediction',\n",
    "    icon='chart-line',\n",
    ")\n",
    "do_predictions_button.on_click(do_predictions)"
   ]
  },
  {
   "cell_type": "markdown",
   "metadata": {},
   "source": [
    "# Run\n",
    "\n",
    "Start predicting features of fasta file inputs in 4 steps.\n",
    "\n",
    "## Usage\n",
    "\n",
    "### Prepare\n",
    "\n",
    "Preparing the environment only needs to be done once everytime when starting JupyterLab or freshly opening the notebook thereafter.\n",
    "\n",
    "### Select model and parameters\n",
    "\n",
    "After changing the model or the parameters, press the \"Load model\"-Button.\n",
    "\n",
    "This will create required directories, download required files and move the model file into the relevant directory. Files that have been downloaded already, will not be downloaded again.\n",
    "\n",
    "### Run\n",
    "\n",
    "After the predictions have been made, new files will be created in the directory `output`.\n",
    "\n",
    "The following types of files will be created:\n",
    "\n",
    "- `.txt`-Files will contain the textual representation as seen in the output of the notebook for all input files\n",
    "- Several different `.bed`-Files containing the found features will be created for each input file based on the selected sequence variations\n",
    "\n",
    "  They can be used to import found features into other software.\n",
    "  \n",
    "  - `.normal.bed` contains features found for the original input fasta file\n",
    "  - `.rev-comp.bed` contains features found for the reverse-complement\n",
    "  - `.bed` contains features found in both the normal and the reverse-complement\n"
   ]
  },
  {
   "cell_type": "markdown",
   "metadata": {},
   "source": [
    "## 1 Prepare\n",
    "\n",
    "<button data-commandLinker-command=\"notebook:run-all-cells\" class=\"lm-Widget jupyter-widgets jupyter-button\">Prepare environment</button>"
   ]
  },
  {
   "cell_type": "markdown",
   "metadata": {},
   "source": [
    "## 2 Select model and parameters"
   ]
  },
  {
   "cell_type": "code",
   "execution_count": null,
   "metadata": {
    "scrolled": true
   },
   "outputs": [],
   "source": [
    "display(model_name_widget)\n",
    "display(model_confidence_threshold_widget)\n",
    "display(minimum_sequence_length_widget)\n",
    "display(check_sequence_variations_widget)\n",
    "display(use_cuda_if_available_widget)"
   ]
  },
  {
   "cell_type": "code",
   "execution_count": null,
   "metadata": {},
   "outputs": [],
   "source": [
    "display(load_model_button)"
   ]
  },
  {
   "cell_type": "code",
   "execution_count": null,
   "metadata": {},
   "outputs": [],
   "source": [
    "display(load_model_output)"
   ]
  },
  {
   "cell_type": "markdown",
   "metadata": {},
   "source": [
    "## 3 Select fasta files\n",
    "\n",
    "Multiple fasta files may be selected. You can place them in the directory `input`."
   ]
  },
  {
   "cell_type": "code",
   "execution_count": null,
   "metadata": {},
   "outputs": [],
   "source": [
    "create_input_files_widget()\n",
    "display(input_files_widget)"
   ]
  },
  {
   "cell_type": "markdown",
   "metadata": {},
   "source": [
    "## 4 Run"
   ]
  },
  {
   "cell_type": "code",
   "execution_count": null,
   "metadata": {},
   "outputs": [],
   "source": [
    "display(do_predictions_button)"
   ]
  },
  {
   "cell_type": "markdown",
   "metadata": {},
   "source": [
    "## Prediction output"
   ]
  },
  {
   "cell_type": "code",
   "execution_count": null,
   "metadata": {},
   "outputs": [],
   "source": [
    "%%time\n",
    "\n",
    "display(do_predictions_output)"
   ]
  }
 ],
 "metadata": {
  "accelerator": "GPU",
  "colab": {
   "name": "ZDNA prediction",
   "provenance": [],
   "toc_visible": true
  },
  "kernelspec": {
   "display_name": "Python 3 (ipykernel)",
   "language": "python",
   "name": "python3"
  },
  "language_info": {
   "codemirror_mode": {
    "name": "ipython",
    "version": 3
   },
   "file_extension": ".py",
   "mimetype": "text/x-python",
   "name": "python",
   "nbconvert_exporter": "python",
   "pygments_lexer": "ipython3",
   "version": "3.11.9"
  }
 },
 "nbformat": 4,
 "nbformat_minor": 4
}
